{
 "cells": [
  {
   "cell_type": "code",
   "execution_count": null,
   "id": "db3110c3-6711-49d9-a955-3490f936611a",
   "metadata": {},
   "outputs": [],
   "source": []
  },
  {
   "cell_type": "markdown",
   "id": "4a083def-2a91-4049-ab6c-d80ca9895825",
   "metadata": {},
   "source": [
    "# Data Science Tools and Ecosystem\n"
   ]
  },
  {
   "cell_type": "markdown",
   "id": "10ab8c46-d10b-4134-9757-d7f652a289b8",
   "metadata": {},
   "source": [
    "In this notebook, Data Science Tools and Ecosystem are summarized.\n"
   ]
  },
  {
   "cell_type": "markdown",
   "id": "6aad5257-bd7e-4d3d-89be-8f6e1d497c63",
   "metadata": {},
   "source": [
    "**Objectives:**\n",
    "\n",
    "- List popular languages for Data Science\n",
    "- Introduce commonly used libraries in Data Science\n",
    "- Explore tools and environments for Data Science development\n"
   ]
  },
  {
   "cell_type": "markdown",
   "id": "c74a2045-6288-44b1-a072-9c53647205e3",
   "metadata": {},
   "source": [
    "Some of the popular languages that Data Scientists use are:\n",
    "1. Python\n",
    "2. R\n",
    "3. Julia\n"
   ]
  },
  {
   "cell_type": "markdown",
   "id": "71e10fc4-3af5-4614-9fbb-480808799d5b",
   "metadata": {},
   "source": [
    "Some of the commonly used libraries by Data Scientists include:\n",
    "1. Pandas\n",
    "2. NumPy\n",
    "3. Matplotlib\n"
   ]
  },
  {
   "cell_type": "markdown",
   "id": "668c4a29-b032-4a93-8aa6-ebb09cac0d56",
   "metadata": {},
   "source": [
    "| Data Science Tools      |\n",
    "|-------------------------|\n",
    "| Jupyter Notebook        |\n",
    "| RStudio                 |\n",
    "| Spyder                  |\n"
   ]
  },
  {
   "cell_type": "markdown",
   "id": "d645ca77-be46-48aa-a51d-86c2dbfdb35f",
   "metadata": {},
   "source": [
    "### Below are a few examples of evaluating arithmetic expressions in Python.\n"
   ]
  },
  {
   "cell_type": "code",
   "execution_count": 1,
   "id": "18a40bfc-bc19-4b9d-aefc-053740e41a4f",
   "metadata": {
    "tags": []
   },
   "outputs": [
    {
     "data": {
      "text/plain": [
       "17"
      ]
     },
     "execution_count": 1,
     "metadata": {},
     "output_type": "execute_result"
    }
   ],
   "source": [
    "# This is a simple arithmetic expression to multiply then add integers\n",
    "(3*4)+5"
   ]
  },
  {
   "cell_type": "code",
   "execution_count": 2,
   "id": "55740551-f180-4c41-bab4-9d2e48242547",
   "metadata": {
    "tags": []
   },
   "outputs": [
    {
     "data": {
      "text/plain": [
       "3.3333333333333335"
      ]
     },
     "execution_count": 2,
     "metadata": {},
     "output_type": "execute_result"
    }
   ],
   "source": [
    "# This will convert 200 minutes to hours by dividing by 60\n",
    "200 / 60"
   ]
  },
  {
   "cell_type": "markdown",
   "id": "4f05d726-4830-4c3a-b2c9-21b50fb79439",
   "metadata": {},
   "source": [
    "## Authors\n",
    "\n",
    "- Sanjana Raju\n",
    "- Rav Ahuja\n",
    "## Other Contributor(s)\n",
    "\n",
    "- Lakshmi Holla\n",
    "- Niveditha Pandith\n",
    "- Malika Singla\n"
   ]
  }
 ],
 "metadata": {
  "kernelspec": {
   "display_name": "Python",
   "language": "python",
   "name": "conda-env-python-py"
  },
  "language_info": {
   "codemirror_mode": {
    "name": "ipython",
    "version": 3
   },
   "file_extension": ".py",
   "mimetype": "text/x-python",
   "name": "python",
   "nbconvert_exporter": "python",
   "pygments_lexer": "ipython3",
   "version": "3.7.12"
  }
 },
 "nbformat": 4,
 "nbformat_minor": 5
}
